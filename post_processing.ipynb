{
 "cells": [
  {
   "cell_type": "code",
   "source": [
    "# manually tries different post-processing strategies on the labelled data to find good parameters\n",
    "%load_ext autoreload\n",
    "%autoreload 2\n",
    "import numpy as np\n",
    "import matplotlib.pyplot as plt\n",
    "from utils.utils import load_data, load_test_predictions,  handle_small_segments, get_bbox_margin, get_metrics, compute_auc, get_shells, smooth_segments, load_predictions, handle_small_segments_simple, find_central_id, merge_in_rbc, delete_boundary_segments\n",
    "from post_process import post_process\n",
    "from skimage.measure import regionprops\n",
    "from skimage.morphology import ball, dilation, erosion"
   ],
   "metadata": {
    "collapsed": false
   },
   "outputs": [],
   "execution_count": null
  },
  {
   "cell_type": "code",
   "execution_count": 2,
   "outputs": [],
   "source": [
    "# on labelled data"
   ],
   "metadata": {
    "collapsed": false
   }
  },
  {
   "cell_type": "code",
   "execution_count": 3,
   "outputs": [],
   "source": [
    "data_path = \"/export/home/sdamrich/data_ial/sfb1129/protein_kinetics/RBC_labelled\"\n",
    "\n",
    "datasets = [\"valid1\", \"valid2\", \"valid3\"]"
   ],
   "metadata": {
    "collapsed": false
   }
  },
  {
   "cell_type": "code",
   "execution_count": 4,
   "outputs": [],
   "source": [
    "#load data\n",
    "data_dict = {}\n",
    "for dataset in datasets:\n",
    "    imgs, gt, file_names = load_data(data_path, dataset)\n",
    "    data_dict[dataset] = {\"imgs\": imgs,\n",
    "                          \"gt\": gt,\n",
    "                          \"file_names\": file_names}"
   ],
   "metadata": {
    "collapsed": false
   }
  },
  {
   "cell_type": "code",
   "execution_count": 4,
   "outputs": [],
   "source": [
    "# check out size of segments\n",
    "all_counts = []\n",
    "for dataset in datasets:\n",
    "    for gt in data_dict[dataset][\"gt\"]:\n",
    "        _, counts = np.unique(gt, return_counts=True)\n",
    "        all_counts.append(counts[1:])\n",
    "all_counts = np.concatenate(all_counts)\n"
   ],
   "metadata": {
    "collapsed": false
   }
  },
  {
   "cell_type": "code",
   "execution_count": 153,
   "outputs": [],
   "source": [
    "seed = 0\n",
    "n_folds = 10\n",
    "eval_str_3D = \"data_valid1_valid2_valid3_by_stack_mode_3D_iso_min_train_masks_0_seed_0_epoch_499_aniso_3.2\"\n",
    "for dataset in datasets:\n",
    "    test_pred_3D, test_idx_3D = load_test_predictions(data_path,\n",
    "                                     dataset,\n",
    "                                     data_dict[dataset][\"file_names\"],\n",
    "                                     eval_str_3D,\n",
    "                                     seed=seed,\n",
    "                                     n_folds=n_folds)\n",
    "    reverse_idx = np.argsort(test_idx_3D)\n",
    "    test_pred_3D = test_pred_3D[reverse_idx]\n",
    "    data_dict[dataset][\"pred_3D\"] = test_pred_3D"
   ],
   "metadata": {
    "collapsed": false
   }
  },
  {
   "cell_type": "code",
   "execution_count": 6,
   "outputs": [],
   "source": [
    "counts_3D = []\n",
    "for dataset in datasets:\n",
    "    for seg in data_dict[dataset][\"pred_3D\"]:\n",
    "        _, counts = np.unique(seg, return_counts=True)\n",
    "        counts_3D.append(counts[1:])\n",
    "counts_3D = np.concatenate(counts_3D)"
   ],
   "metadata": {
    "collapsed": false
   }
  },
  {
   "cell_type": "code",
   "execution_count": 7,
   "outputs": [
    {
     "data": {
      "text/plain": "<Figure size 640x480 with 1 Axes>",
      "image/png": "[encoded data removed]"
     },
     "metadata": {},
     "output_type": "display_data"
    }
   ],
   "source": [
    "bins = np.exp(np.arange(100)/10)\n",
    "plt.hist(counts_3D, bins=bins, alpha=0.5, label=\"pred 2d\")\n",
    "plt.hist(all_counts, bins=bins, alpha=0.5, label=\"gt\")\n",
    "plt.legend()\n",
    "plt.xscale(\"log\")"
   ],
   "metadata": {
    "collapsed": false
   }
  },
  {
   "cell_type": "code",
   "execution_count": 8,
   "outputs": [
    {
     "data": {
      "text/plain": "28"
     },
     "execution_count": 8,
     "metadata": {},
     "output_type": "execute_result"
    }
   ],
   "source": [
    "# there are small segments\n",
    "(counts_3D <2000).sum()"
   ],
   "metadata": {
    "collapsed": false
   }
  },
  {
   "cell_type": "code",
   "execution_count": 9,
   "outputs": [],
   "source": [
    "# test handling of small segments (deprecated)"
   ],
   "metadata": {
    "collapsed": false
   }
  },
  {
   "cell_type": "code",
   "execution_count": 10,
   "outputs": [
    {
     "name": "stdout",
     "output_type": "stream",
     "text": [
      "CPU times: user 650 ms, sys: 576 µs, total: 651 ms\n",
      "Wall time: 649 ms\n"
     ]
    }
   ],
   "source": [
    "%%time\n",
    "for seg in data_dict[\"valid2\"][\"pred_3D\"]:\n",
    "    handle_small_segments(seg, 2000, 3)"
   ],
   "metadata": {
    "collapsed": false
   }
  },
  {
   "cell_type": "code",
   "execution_count": 11,
   "outputs": [],
   "source": [
    "sample_id = 12\n",
    "sample_seg = data_dict[\"valid2\"][\"pred_3D\"][sample_id]"
   ],
   "metadata": {
    "collapsed": false
   }
  },
  {
   "cell_type": "code",
   "execution_count": 12,
   "outputs": [
    {
     "name": "stdout",
     "output_type": "stream",
     "text": [
      "[583095  57290   4283   5316    633    370    529    210    387    203\n",
      "     46    138]\n"
     ]
    }
   ],
   "source": [
    "_, c = np.unique(sample_seg, return_counts=True)\n",
    "print(c)"
   ],
   "metadata": {
    "collapsed": false
   }
  },
  {
   "cell_type": "code",
   "execution_count": 13,
   "outputs": [],
   "source": [
    "merged_seg = handle_small_segments(sample_seg, 2000, 3)"
   ],
   "metadata": {
    "collapsed": false
   }
  },
  {
   "cell_type": "code",
   "execution_count": 14,
   "outputs": [
    {
     "name": "stdout",
     "output_type": "stream",
     "text": [
      "[583095  59806   4283   5316]\n"
     ]
    }
   ],
   "source": [
    "_, c = np.unique(merged_seg, return_counts=True)\n",
    "print(c)"
   ],
   "metadata": {
    "collapsed": false
   }
  },
  {
   "cell_type": "code",
   "execution_count": 15,
   "outputs": [
    {
     "data": {
      "text/plain": "<matplotlib.image.AxesImage at 0x7fd23970c940>"
     },
     "execution_count": 15,
     "metadata": {},
     "output_type": "execute_result"
    },
    {
     "data": {
      "text/plain": "<Figure size 640x480 with 3 Axes>",
      "image/png": "[encoded data removed]"
     },
     "metadata": {},
     "output_type": "display_data"
    }
   ],
   "source": [
    "z = 8\n",
    "\n",
    "fig, ax = plt.subplots(1, 3)\n",
    "ax[0].imshow(sample_seg[z], interpolation=\"none\")\n",
    "ax[1].imshow(merged_seg[z], interpolation=\"none\")\n",
    "ax[2].imshow(data_dict[\"valid2\"][\"gt\"][sample_id][z], interpolation=\"none\")"
   ],
   "metadata": {
    "collapsed": false
   }
  },
  {
   "cell_type": "code",
   "execution_count": 16,
   "outputs": [],
   "source": [
    "# quantitative eval"
   ],
   "metadata": {
    "collapsed": false
   }
  },
  {
   "cell_type": "code",
   "execution_count": 124,
   "outputs": [
    {
     "name": "stdout",
     "output_type": "stream",
     "text": [
      "CPU times: user 4min 18s, sys: 2.56 s, total: 4min 21s\n",
      "Wall time: 4min 21s\n"
     ]
    }
   ],
   "source": [
    "%%time\n",
    "min_sizes = np.arange(0, 20)*100\n",
    "ngbh_sizes = [0, 1, 2]\n",
    "merged_aucs = np.zeros(shape=(len(min_sizes), len(ngbh_sizes)))\n",
    "merged_shell_aucs = np.zeros(shape=(len(min_sizes), len(ngbh_sizes)))\n",
    "\n",
    "for i, min_size in enumerate(min_sizes):\n",
    "    for j, ngbh_size in enumerate(ngbh_sizes):\n",
    "        for dataset in data_dict.keys():\n",
    "            if \"gt_shells\" not in data_dict[dataset].keys():\n",
    "                gt_shells = np.zeros_like(data_dict[dataset][\"gt\"])\n",
    "                for i, seg in enumerate(data_dict[dataset][\"gt\"]):\n",
    "                    gt_shells[i] = get_shells(seg, 1, 1 )\n",
    "                data_dict[dataset][\"gt_shells\"] = gt_shells\n",
    "            merged_segs = []\n",
    "            merged_segs_shells = []\n",
    "            for seg in data_dict[dataset][\"pred_3D\"]:\n",
    "                merged_seg = handle_small_segments(seg, min_size, ngbh_size)\n",
    "                merged_segs.append(merged_seg)\n",
    "                merged_segs_shells.append(get_shells(merged_seg))\n",
    "\n",
    "            data_dict[dataset][\"merged_3D\"] = np.stack(merged_segs)\n",
    "            data_dict[dataset][\"merged_3D_shells\"] = np.stack(merged_segs_shells)\n",
    "\n",
    "        merged_aucs[i,j] = compute_auc(data_dict, stage=\"merged_3D\")\n",
    "        merged_shell_aucs[i,j] = compute_auc(data_dict, stage=\"merged_3D_shells\", gt_stage=\"gt_shells\")\n"
   ],
   "metadata": {
    "collapsed": false,
    "pycharm": {
     "name": "#%%time\n"
    }
   }
  },
  {
   "cell_type": "code",
   "execution_count": 125,
   "outputs": [
    {
     "data": {
      "text/plain": "<Figure size 640x480 with 1 Axes>",
      "image/png": "[encoded data removed]"
     },
     "metadata": {},
     "output_type": "display_data"
    }
   ],
   "source": [
    "plt.imshow(merged_aucs.T)\n",
    "_ = plt.xticks(np.arange(len(min_sizes))[::2], min_sizes[::2])"
   ],
   "metadata": {
    "collapsed": false
   }
  },
  {
   "cell_type": "code",
   "execution_count": 126,
   "outputs": [
    {
     "name": "stdout",
     "output_type": "stream",
     "text": [
      "AUC before merging 0.8068270980913027\n",
      "Best combination is min_size=700 and nghb_size=1\n",
      "Best AUC after merging 0.8225773358585858\n"
     ]
    }
   ],
   "source": [
    "max_auc = merged_aucs.max()\n",
    "\n",
    "idx = np.argwhere(merged_aucs == max_auc)[0]\n",
    "\n",
    "\n",
    "print(f\"AUC before merging {compute_auc(data_dict)}\")\n",
    "print(f\"Best combination is min_size={min_sizes[idx[0]]} and nghb_size={ngbh_sizes[idx[1]]}\")\n",
    "print(f\"Best AUC after merging {merged_aucs.max()}\")\n"
   ],
   "metadata": {
    "collapsed": false
   }
  },
  {
   "cell_type": "code",
   "execution_count": 127,
   "outputs": [
    {
     "data": {
      "text/plain": "<Figure size 640x480 with 1 Axes>",
      "image/png": "[encoded data removed]"
     },
     "metadata": {},
     "output_type": "display_data"
    }
   ],
   "source": [
    "plt.imshow(merged_shell_aucs.T)\n",
    "_ = plt.xticks(np.arange(len(min_sizes))[::2], min_sizes[::2])"
   ],
   "metadata": {
    "collapsed": false
   }
  },
  {
   "cell_type": "code",
   "execution_count": 128,
   "outputs": [
    {
     "name": "stdout",
     "output_type": "stream",
     "text": [
      "AUC before merging 0.6261137103111535\n",
      "Best combination is min_size=700 and nghb_size=0\n",
      "Best AUC after merging 0.6360090863997114\n"
     ]
    }
   ],
   "source": [
    "max_auc = merged_shell_aucs.max()\n",
    "\n",
    "idx = np.argwhere(merged_shell_aucs == max_auc)[0]\n",
    "\n",
    "for dataset in data_dict:\n",
    "    pred_3D_shells = np.zeros_like(data_dict[dataset][\"gt\"])\n",
    "    for i, seg in enumerate(data_dict[dataset][\"pred_3D\"]):\n",
    "        pred_3D_shells[i] = get_shells(seg, 1, 1 )\n",
    "    data_dict[dataset][\"pred_3D_shells\"] = pred_3D_shells\n",
    "\n",
    "print(f\"AUC before merging {compute_auc(data_dict, stage='pred_3D_shells', gt_stage='gt_shells' )}\")\n",
    "print(f\"Best combination is min_size={min_sizes[idx[0]]} and nghb_size={ngbh_sizes[idx[1]]}\")\n",
    "print(f\"Best AUC after merging {merged_shell_aucs.max()}\")"
   ],
   "metadata": {
    "collapsed": false
   }
  },
  {
   "cell_type": "code",
   "execution_count": 17,
   "outputs": [],
   "source": [
    "# --> filtering small segments helps, but merging small to larger cells does not help much and not at all in terms of shells. But it also does not hurt."
   ],
   "metadata": {
    "collapsed": false
   }
  },
  {
   "cell_type": "code",
   "execution_count": 18,
   "outputs": [],
   "source": [
    "best_min_size = 700\n",
    "best_nghb_size = 1\n",
    "for dataset in data_dict.keys():\n",
    "    merged_segs = []\n",
    "    for seg in data_dict[dataset][\"pred_3D\"]:\n",
    "        merged_segs.append(handle_small_segments(seg, best_min_size, best_nghb_size))\n",
    "    data_dict[dataset][\"merged_3D\"] = np.stack(merged_segs)\n"
   ],
   "metadata": {
    "collapsed": false
   }
  },
  {
   "cell_type": "code",
   "execution_count": 19,
   "outputs": [],
   "source": [
    "# get rid or jaggered patterns in z-direction"
   ],
   "metadata": {
    "collapsed": false
   }
  },
  {
   "cell_type": "code",
   "execution_count": 21,
   "outputs": [],
   "source": [
    "# qualitative eval"
   ],
   "metadata": {
    "collapsed": false
   }
  },
  {
   "cell_type": "code",
   "execution_count": 22,
   "outputs": [],
   "source": [
    "closed_sample_seg = smooth_segments(merged_seg, 2, False)"
   ],
   "metadata": {
    "collapsed": false
   }
  },
  {
   "cell_type": "code",
   "execution_count": 33,
   "outputs": [
    {
     "data": {
      "text/plain": "<matplotlib.image.AxesImage at 0x7fd23831ed60>"
     },
     "execution_count": 33,
     "metadata": {},
     "output_type": "execute_result"
    },
    {
     "data": {
      "text/plain": "<Figure size 1000x1000 with 3 Axes>",
      "image/png": "[encoded data removed]"
     },
     "metadata": {},
     "output_type": "display_data"
    }
   ],
   "source": [
    "z = 20\n",
    "\n",
    "fig, ax = plt.subplots(1, 3, figsize=(10,10))\n",
    "ax[0].imshow(merged_seg[z], interpolation=\"none\")\n",
    "ax[1].imshow(closed_sample_seg[z], interpolation=\"none\")\n",
    "ax[2].imshow(data_dict[\"valid2\"][\"gt\"][sample_id][z], interpolation=\"none\")"
   ],
   "metadata": {
    "collapsed": false
   }
  },
  {
   "cell_type": "code",
   "execution_count": 58,
   "outputs": [],
   "source": [
    "# quantitative analysis"
   ],
   "metadata": {
    "collapsed": false
   }
  },
  {
   "cell_type": "code",
   "execution_count": 35,
   "outputs": [],
   "source": [
    "dim_setting = [True, False]\n",
    "radii = [0, 1, 2, 3, 4, 5]\n",
    "smoothed_aucs = np.zeros(shape=(len(dim_setting), len(radii)))\n",
    "smoothed_shell_aucs = np.zeros(shape=(len(dim_setting), len(radii)))\n",
    "\n",
    "for i, do_3D in enumerate(dim_setting):\n",
    "    for j, radius in enumerate(radii):\n",
    "        for dataset in data_dict.keys():\n",
    "            if \"gt_shells\" not in data_dict[dataset].keys():\n",
    "                gt_shells = np.zeros_like(data_dict[dataset][\"gt\"])\n",
    "                for i, seg in enumerate(data_dict[dataset][\"gt\"]):\n",
    "                    gt_shells[i] = get_shells(seg, 1, 1 )\n",
    "                data_dict[dataset][\"gt_shells\"] = gt_shells\n",
    "\n",
    "            new_segs = []\n",
    "            new_shells = []\n",
    "            for seg in data_dict[dataset][\"merged_3D\"]:\n",
    "                new_segs.append(smooth_segments(seg, radius, do_3D))\n",
    "                new_shells.append(get_shells(new_segs[-1], 1, 1))\n",
    "            data_dict[dataset][\"smoothed_3D\"] = np.stack(new_segs)\n",
    "            data_dict[dataset][\"smoothed_3D_shells\"] = np.stack(new_shells)\n",
    "        smoothed_aucs[i,j] = compute_auc(data_dict, stage=\"smoothed_3D\")\n",
    "        smoothed_shell_aucs[i,j] = compute_auc(data_dict, stage=\"smoothed_3D_shells\", gt_stage=\"gt_shells\")"
   ],
   "metadata": {
    "collapsed": false,
    "pycharm": {
     "name": "#%%time\n"
    }
   }
  },
  {
   "cell_type": "code",
   "execution_count": 36,
   "outputs": [
    {
     "data": {
      "text/plain": "<matplotlib.image.AxesImage at 0x7fd2267e2130>"
     },
     "execution_count": 36,
     "metadata": {},
     "output_type": "execute_result"
    },
    {
     "data": {
      "text/plain": "<Figure size 640x480 with 1 Axes>",
      "image/png": "[encoded data removed]"
     },
     "metadata": {},
     "output_type": "display_data"
    }
   ],
   "source": [
    "plt.imshow(smoothed_aucs)\n",
    "#_ = plt.xticks(np.arange(len(dim_setting)), radii)"
   ],
   "metadata": {
    "collapsed": false
   }
  },
  {
   "cell_type": "code",
   "execution_count": 37,
   "outputs": [
    {
     "name": "stdout",
     "output_type": "stream",
     "text": [
      "[[0.76053898 0.75219781 0.76417416 0.77177641 0.77750107 0.7853068 ]\n",
      " [0.82257734 0.82357165 0.82108248 0.8194591  0.81735886 0.81761251]]\n"
     ]
    }
   ],
   "source": [
    "print(smoothed_aucs)"
   ],
   "metadata": {
    "collapsed": false
   }
  },
  {
   "cell_type": "code",
   "execution_count": 38,
   "outputs": [
    {
     "name": "stdout",
     "output_type": "stream",
     "text": [
      "AUC before merging 0.8225773358585858\n",
      "Best combination is do_3D=False and radius=1\n",
      "Best AUC after merging 0.8235716540404041\n"
     ]
    }
   ],
   "source": [
    "max_auc = smoothed_aucs.max()\n",
    "\n",
    "idx = np.argwhere(smoothed_aucs == max_auc)[0]\n",
    "\n",
    "\n",
    "print(f\"AUC before merging {compute_auc(data_dict, stage='merged_3D')}\")\n",
    "print(f\"Best combination is do_3D={dim_setting[idx[0]]} and radius={radii[idx[1]]}\")\n",
    "print(f\"Best AUC after merging {max_auc}\")"
   ],
   "metadata": {
    "collapsed": false
   }
  },
  {
   "cell_type": "code",
   "execution_count": 39,
   "outputs": [
    {
     "data": {
      "text/plain": "<matplotlib.image.AxesImage at 0x7fd227486730>"
     },
     "execution_count": 39,
     "metadata": {},
     "output_type": "execute_result"
    },
    {
     "data": {
      "text/plain": "<Figure size 640x480 with 1 Axes>",
      "image/png": "[encoded data removed]"
     },
     "metadata": {},
     "output_type": "display_data"
    }
   ],
   "source": [
    "plt.imshow(smoothed_shell_aucs)\n",
    "#_ = plt.xticks(np.arange(len(dim_setting)), radii)"
   ],
   "metadata": {
    "collapsed": false
   }
  },
  {
   "cell_type": "code",
   "execution_count": 40,
   "outputs": [
    {
     "name": "stdout",
     "output_type": "stream",
     "text": [
      "[[0.48730441 0.47606872 0.50632835 0.51697336 0.53016555 0.54300713]\n",
      " [0.63600909 0.63389644 0.63199856 0.63046762 0.63046762 0.62837302]]\n"
     ]
    }
   ],
   "source": [
    "print(smoothed_shell_aucs)"
   ],
   "metadata": {
    "collapsed": false
   }
  },
  {
   "cell_type": "code",
   "execution_count": 43,
   "outputs": [
    {
     "name": "stdout",
     "output_type": "stream",
     "text": [
      "AUC before merging 0.6360090863997114\n",
      "Best combination is do_3D=False and radius=0\n",
      "Best AUC after merging 0.6360090863997114\n"
     ]
    }
   ],
   "source": [
    "max_auc = smoothed_shell_aucs.max()\n",
    "\n",
    "idx = np.argwhere(smoothed_shell_aucs == max_auc)[0]\n",
    "\n",
    "for dataset in data_dict:\n",
    "    pred_3D_shells = np.zeros_like(data_dict[dataset][\"gt\"])\n",
    "    for i, seg in enumerate(data_dict[dataset][\"merged_3D\"]):\n",
    "        pred_3D_shells[i] = get_shells(seg, 1, 1 )\n",
    "    data_dict[dataset][\"merged_3D_shells\"] = pred_3D_shells\n",
    "\n",
    "print(f\"AUC before merging {compute_auc(data_dict, stage='merged_3D_shells', gt_stage='gt_shells' )}\")\n",
    "print(f\"Best combination is do_3D={dim_setting[idx[0]]} and radius={radii[idx[1]]}\")\n",
    "print(f\"Best AUC after merging {smoothed_shell_aucs.max()}\")"
   ],
   "metadata": {
    "collapsed": false
   }
  },
  {
   "cell_type": "markdown",
   "source": [
    "# parasites"
   ],
   "metadata": {
    "collapsed": false
   }
  },
  {
   "cell_type": "code",
   "execution_count": 28,
   "outputs": [],
   "source": [
    "# load rbc and parasite predictions\n",
    "\n",
    "data_path = \"/export/home/sdamrich/data_ial/sfb1129/protein_kinetics/data_20220615\"\n",
    "\n",
    "datasets = [\"mask-ts\"]\n",
    "\n",
    "seed = 0\n",
    "n_folds = 10\n",
    "\n",
    "eval_str_para = \"data_mask-ts_by_stack_mode_3D_iso_min_train_masks_0_seed_0_epoch_499_aniso_3.2\"\n",
    "eval_str_rbc = \"data_valid1_valid2_valid3_by_stack_mode_3D_iso_min_train_masks_0_seed_0_fold_0_of_1_epoch_499_aniso_3.2\"\n",
    "\n",
    "\n",
    "data_dict = {}\n",
    "\n",
    "for dataset in datasets:\n",
    "    data_dict[dataset] = {}\n",
    "\n",
    "    imgs, para_gt, file_names = load_data(data_path, dataset)\n",
    "\n",
    "    data_dict[dataset][\"imgs\"] = imgs\n",
    "    data_dict[dataset][\"para_gt\"] = para_gt\n",
    "    data_dict[dataset][\"file_names\"] = file_names\n",
    "\n",
    "    para_pred, test_idx = load_test_predictions(data_path,\n",
    "                                     dataset,\n",
    "                                     file_names,\n",
    "                                     eval_str_para,\n",
    "                                     seed=seed,\n",
    "                                     n_folds=n_folds)\n",
    "    reverse_idx = np.argsort(test_idx)\n",
    "    para_pred = para_pred[reverse_idx]\n",
    "    data_dict[dataset][\"para_pred\"] = para_pred\n",
    "\n",
    "    rbc_pred = load_predictions(data_path, dataset, file_names, eval_str_rbc)\n",
    "    data_dict[dataset][\"rbc_pred\"] = rbc_pred"
   ],
   "metadata": {
    "collapsed": false
   }
  },
  {
   "cell_type": "code",
   "execution_count": 29,
   "outputs": [
    {
     "data": {
      "text/plain": "(23, 29, 150, 150)"
     },
     "execution_count": 29,
     "metadata": {},
     "output_type": "execute_result"
    }
   ],
   "source": [
    "data_dict[\"mask-ts\"][\"para_pred\"].shape\n"
   ],
   "metadata": {
    "collapsed": false
   }
  },
  {
   "cell_type": "code",
   "execution_count": 30,
   "outputs": [],
   "source": [
    "# postprocess rbcs\n",
    "\n",
    "for dataset in data_dict:\n",
    "    data_dict[dataset][\"rbc_pp\"] = post_process(data_dict[dataset][\"rbc_pred\"], stage=\"rbc_old\", radius=1, do_3D=False, nbhd_size=1)\n"
   ],
   "metadata": {
    "collapsed": false
   }
  },
  {
   "cell_type": "code",
   "execution_count": null,
   "outputs": [],
   "source": [],
   "metadata": {
    "collapsed": false
   }
  },
  {
   "cell_type": "code",
   "execution_count": 32,
   "outputs": [
    {
     "data": {
      "text/plain": "<matplotlib.image.AxesImage at 0x7f174f613cd0>"
     },
     "execution_count": 32,
     "metadata": {},
     "output_type": "execute_result"
    },
    {
     "data": {
      "text/plain": "<Figure size 640x480 with 4 Axes>",
      "image/png": "[encoded data removed]"
     },
     "metadata": {},
     "output_type": "display_data"
    }
   ],
   "source": [
    "img_id = 4\n",
    "z = 15\n",
    "dataset = \"mask-ts\"\n",
    "\n",
    "fix, ax = plt.subplots(1, 4)\n",
    "ax[0].imshow(data_dict[dataset][\"imgs\"][img_id][z], interpolation=\"none\", cmap=\"gray\")\n",
    "ax[1].imshow(data_dict[dataset][\"rbc_pp\"][img_id][z], interpolation=\"none\")\n",
    "ax[2].imshow(data_dict[dataset][\"para_gt\"][img_id][z], interpolation=\"none\")\n",
    "ax[3].imshow(data_dict[dataset][\"para_pred\"][img_id][z], interpolation=\"none\")"
   ],
   "metadata": {
    "collapsed": false
   }
  },
  {
   "cell_type": "code",
   "execution_count": 33,
   "outputs": [],
   "source": [
    "# merge everything inside main rbc"
   ],
   "metadata": {
    "collapsed": false
   }
  },
  {
   "cell_type": "code",
   "execution_count": 44,
   "outputs": [],
   "source": [
    "def post_process_para(para_seg, rbc_pp_seg, radius=0, do_3D=True):\n",
    "    para_seg_merged = merge_in_rbc(para_seg, rbc_pp_seg)\n",
    "    para_seg_smooth = smooth_segments(para_seg_merged, radius, do_3D)\n",
    "    return para_seg_smooth\n"
   ],
   "metadata": {
    "collapsed": false
   }
  },
  {
   "cell_type": "code",
   "execution_count": 40,
   "outputs": [],
   "source": [
    "for dataset in data_dict:\n",
    "    data_dict[dataset][\"para_merge\"] = merge_in_rbc(data_dict[dataset][\"para_pred\"],\n",
    "                                                      data_dict[dataset][\"rbc_pp\"])\n",
    "    data_dict[dataset][\"para_gt_merge\"] = merge_in_rbc(data_dict[dataset][\"para_gt\"],\n",
    "                                                         data_dict[dataset][\"rbc_pp\"])"
   ],
   "metadata": {
    "collapsed": false
   }
  },
  {
   "cell_type": "code",
   "execution_count": 53,
   "outputs": [
    {
     "name": "stdout",
     "output_type": "stream",
     "text": [
      "0.6679841821843927\n"
     ]
    }
   ],
   "source": [
    "# only run this for mask_ts  for getting the results of that dataset direct, as requested by Sophia\n",
    "smoothed = []\n",
    "for frame in data_dict[\"mask_ts\"][\"para_merge\"]:\n",
    "    smoothed.append(smooth_segments(frame, radius=0, do_3d=True))\n",
    "data_dict[dataset][\"para_pp\"] = np.stack(smoothed)\n",
    "print(compute_auc(data_dict, datasets=[\"mask-ts\"], stage='para_pp', gt_stage='para_gt' ))"
   ],
   "metadata": {
    "collapsed": false
   }
  },
  {
   "cell_type": "code",
   "execution_count": 41,
   "outputs": [
    {
     "data": {
      "text/plain": "<Figure size 640x480 with 6 Axes>",
      "image/png": "[encoded data removed]"
     },
     "metadata": {},
     "output_type": "display_data"
    }
   ],
   "source": [
    "img_id = 1\n",
    "z = 15\n",
    "dataset = \"mask-ts\"\n",
    "\n",
    "fix, ax = plt.subplots(1, 6)\n",
    "ax[0].imshow(data_dict[dataset][\"imgs\"][img_id][z], interpolation=\"none\", cmap=\"gray\")\n",
    "ax[1].imshow(data_dict[dataset][\"rbc_pp\"][img_id][z], interpolation=\"none\")\n",
    "ax[2].imshow(data_dict[dataset][\"para_pred\"][img_id][z], interpolation=\"none\")\n",
    "ax[3].imshow(data_dict[dataset][\"para_merge\"][img_id][z], interpolation=\"none\")\n",
    "ax[4].imshow(data_dict[dataset][\"para_gt\"][img_id][z], interpolation=\"none\")\n",
    "ax[5].imshow(data_dict[dataset][\"para_gt_merge\"][img_id][z], interpolation=\"none\")\n",
    "\n",
    "for axes in ax:\n",
    "    axes.axis(\"off\")"
   ],
   "metadata": {
    "collapsed": false
   }
  },
  {
   "cell_type": "code",
   "execution_count": 42,
   "outputs": [
    {
     "name": "stdout",
     "output_type": "stream",
     "text": [
      "0.6916995915499601\n",
      "0.6916995915499601\n",
      "0.6956521814519708\n"
     ]
    }
   ],
   "source": [
    "# mask -r and mask-ts\n",
    "print(compute_auc(data_dict, stage='para_pred', gt_stage='para_gt' ))\n",
    "print(compute_auc(data_dict, stage='para_merge', gt_stage='para_gt' ))\n",
    "print(compute_auc(data_dict, stage='para_merge', gt_stage='para_gt_merge' ))\n",
    "# these are not the original numbers anymore"
   ],
   "metadata": {
    "collapsed": false
   }
  },
  {
   "cell_type": "code",
   "execution_count": 268,
   "outputs": [
    {
     "name": "stdout",
     "output_type": "stream",
     "text": [
      "0.4236110773953525\n",
      "0.45833336223255505\n",
      "0.5075757720253684\n"
     ]
    }
   ],
   "source": [
    "# only mask-r\n",
    "print(compute_auc(data_dict, datasets=[\"mask-r\"], stage='para_pred', gt_stage='para_gt' ))\n",
    "print(compute_auc(data_dict, datasets=[\"mask-r\"], stage='para_merge', gt_stage='para_gt' ))\n",
    "print(compute_auc(data_dict, datasets=[\"mask-r\"], stage='para_merge', gt_stage='para_gt_merge' ))\n"
   ],
   "metadata": {
    "collapsed": false
   }
  },
  {
   "cell_type": "code",
   "execution_count": 38,
   "outputs": [
    {
     "name": "stdout",
     "output_type": "stream",
     "text": [
      "0.6916995915499601\n",
      "0.6916995915499601\n",
      "0.6956521814519708\n"
     ]
    }
   ],
   "source": [
    "# only mask-ts\n",
    "print(compute_auc(data_dict, datasets=[\"mask-ts\"], stage='para_pred', gt_stage='para_gt' ))\n",
    "print(compute_auc(data_dict, datasets=[\"mask-ts\"], stage='para_merge', gt_stage='para_gt' ))\n",
    "print(compute_auc(data_dict, datasets=[\"mask-ts\"], stage='para_merge', gt_stage='para_gt_merge'))"
   ],
   "metadata": {
    "collapsed": false
   }
  },
  {
   "cell_type": "code",
   "execution_count": 273,
   "outputs": [],
   "source": [
    "radii = [0, 1, 2, 3]\n",
    "do_3D_vals = [False, True]\n",
    "\n",
    "metrics = np.zeros((len(radii), len(do_3D_vals), 3, 2))\n",
    "\n",
    "for i, radius in enumerate(radii):\n",
    "    for j, do_3D in enumerate(do_3D_vals):\n",
    "        for dataset in data_dict:\n",
    "            new_segs = []\n",
    "            for seg in data_dict[dataset][\"para_merge\"]:\n",
    "                new_seg = smooth_segments(seg, radius, do_3D)\n",
    "                new_segs.append(new_seg)\n",
    "            data_dict[dataset][\"para_smooth\"] = np.stack(new_segs)\n",
    "        metrics[i, j, 0, 0] = compute_auc(data_dict, datasets=[\"mask-r\"], stage=\"para_smooth\", gt_stage=\"para_gt\")\n",
    "        metrics[i, j, 0, 1] = compute_auc(data_dict, datasets=[\"mask-r\"], stage=\"para_smooth\", gt_stage=\"para_gt_merge\")\n",
    "        metrics[i, j, 1, 0] = compute_auc(data_dict, datasets=[\"mask-ts\"], stage=\"para_smooth\", gt_stage=\"para_gt\")\n",
    "        metrics[i, j, 1, 1] = compute_auc(data_dict, datasets=[\"mask-ts\"], stage=\"para_smooth\", gt_stage=\"para_gt_merge\")\n",
    "        metrics[i, j, 2, 0] = compute_auc(data_dict, stage=\"para_smooth\", gt_stage=\"para_gt\")\n",
    "        metrics[i, j, 2, 1] = compute_auc(data_dict, stage=\"para_smooth\", gt_stage=\"para_gt_merge\")\n"
   ],
   "metadata": {
    "collapsed": false
   }
  },
  {
   "cell_type": "code",
   "execution_count": 293,
   "outputs": [
    {
     "name": "stdout",
     "output_type": "stream",
     "text": [
      "0.4917929389260032\n"
     ]
    },
    {
     "data": {
      "text/plain": "<Figure size 640x480 with 2 Axes>",
      "image/png": "[encoded data removed]"
     },
     "metadata": {},
     "output_type": "display_data"
    }
   ],
   "source": [
    "# mask-r\n",
    "plt.imshow(metrics[:, :, 0, 0].T - compute_auc(data_dict, datasets=[\"mask-r\"], stage='para_merge', gt_stage='para_gt' ))\n",
    "plt.yticks(do_3D_vals, do_3D_vals)\n",
    "plt.xticks(radii)\n",
    "plt.colorbar()\n",
    "\n",
    "print(metrics[:, :, 0, 0].max())"
   ],
   "metadata": {
    "collapsed": false
   }
  },
  {
   "cell_type": "code",
   "execution_count": 294,
   "outputs": [
    {
     "name": "stdout",
     "output_type": "stream",
     "text": [
      "0.5151515007019043\n"
     ]
    },
    {
     "data": {
      "text/plain": "<Figure size 640x480 with 2 Axes>",
      "image/png": "[encoded data removed]"
     },
     "metadata": {},
     "output_type": "display_data"
    }
   ],
   "source": [
    "plt.imshow(metrics[:, :, 0, 1].T- compute_auc(data_dict, datasets=[\"mask-r\"], stage='para_merge', gt_stage='para_gt_merge' ))\n",
    "plt.yticks(do_3D_vals, do_3D_vals)\n",
    "plt.xticks(radii)\n",
    "plt.colorbar()\n",
    "\n",
    "print(metrics[:, :, 0, 1].max())\n"
   ],
   "metadata": {
    "collapsed": false
   }
  },
  {
   "cell_type": "markdown",
   "source": [
    " --> different optimal settings depending whether the GT is clipped to the RBC segment. Since these might be faulty, better stick to the values for the orignal GT."
   ],
   "metadata": {
    "collapsed": false
   }
  },
  {
   "cell_type": "code",
   "execution_count": null,
   "outputs": [],
   "source": [
    "# mask-ts"
   ],
   "metadata": {
    "collapsed": false
   }
  },
  {
   "cell_type": "code",
   "execution_count": 296,
   "outputs": [
    {
     "name": "stdout",
     "output_type": "stream",
     "text": [
      "0.6561264991760254\n"
     ]
    },
    {
     "data": {
      "text/plain": "<Figure size 640x480 with 2 Axes>",
      "image/png": "[encoded data removed]"
     },
     "metadata": {},
     "output_type": "display_data"
    }
   ],
   "source": [
    "plt.imshow(metrics[:, :, 1, 0].T- compute_auc(data_dict, datasets=[\"mask-ts\"], stage='para_merge', gt_stage='para_gt' ))\n",
    "plt.yticks(do_3D_vals, do_3D_vals)\n",
    "plt.xticks(radii)\n",
    "plt.colorbar()\n",
    "\n",
    "print(metrics[:, :, 1, 0].max())"
   ],
   "metadata": {
    "collapsed": false
   }
  },
  {
   "cell_type": "code",
   "execution_count": 298,
   "outputs": [
    {
     "name": "stdout",
     "output_type": "stream",
     "text": [
      "0.6859504092823375\n"
     ]
    },
    {
     "data": {
      "text/plain": "<Figure size 640x480 with 2 Axes>",
      "image/png": "[encoded data removed]"
     },
     "metadata": {},
     "output_type": "display_data"
    }
   ],
   "source": [
    "plt.imshow(metrics[:, :, 1, 1].T - compute_auc(data_dict, datasets=[\"mask-ts\"], stage='para_merge', gt_stage='para_gt_merge'))\n",
    "plt.yticks(do_3D_vals, do_3D_vals)\n",
    "plt.xticks(radii)\n",
    "plt.colorbar()\n",
    "\n",
    "print(metrics[:, :, 1, 1].max())"
   ],
   "metadata": {
    "collapsed": false
   }
  },
  {
   "cell_type": "markdown",
   "source": [
    "--> only small improvement, always best without 3D and with aggressive smoothing"
   ],
   "metadata": {
    "collapsed": false
   }
  },
  {
   "cell_type": "code",
   "execution_count": 299,
   "outputs": [
    {
     "name": "stdout",
     "output_type": "stream",
     "text": [
      "0.5644745826721191\n"
     ]
    },
    {
     "data": {
      "text/plain": "<Figure size 640x480 with 2 Axes>",
      "image/png": "[encoded data removed]"
     },
     "metadata": {},
     "output_type": "display_data"
    }
   ],
   "source": [
    "# mask-r and mask-ts\n",
    "plt.imshow(metrics[:, :, 2, 0].T- compute_auc(data_dict, stage='para_merge', gt_stage='para_gt' ))\n",
    "plt.yticks(do_3D_vals, do_3D_vals)\n",
    "plt.xticks(radii)\n",
    "plt.colorbar()\n",
    "\n",
    "print(metrics[:, :, 2, 0].max())"
   ],
   "metadata": {
    "collapsed": false
   }
  },
  {
   "cell_type": "code",
   "execution_count": 300,
   "outputs": [
    {
     "name": "stdout",
     "output_type": "stream",
     "text": [
      "0.5968379540876909\n"
     ]
    },
    {
     "data": {
      "text/plain": "<Figure size 640x480 with 2 Axes>",
      "image/png": "[encoded data removed]"
     },
     "metadata": {},
     "output_type": "display_data"
    }
   ],
   "source": [
    "plt.imshow(metrics[:, :, 2, 1].T -compute_auc(data_dict, stage='para_merge', gt_stage='para_gt_merge' ))\n",
    "plt.yticks(do_3D_vals, do_3D_vals)\n",
    "plt.xticks(radii)\n",
    "plt.colorbar()\n",
    "print(metrics[:, :, 2, 1].max())"
   ],
   "metadata": {
    "collapsed": false
   }
  },
  {
   "cell_type": "markdown",
   "source": [
    "# on relevant data (only qualitatively)"
   ],
   "metadata": {
    "collapsed": false
   }
  },
  {
   "cell_type": "code",
   "execution_count": 2,
   "outputs": [],
   "source": [
    "data_dir = \"/export/home/sdamrich/data_ial/sfb1129/protein_kinetics/data_20221025\"\n",
    "dataset = \"wholelife\"\n",
    "exp_str_rbc = \"data_valid1_valid2_valid3_by_stack_mode_3D_iso_min_train_masks_0_seed_0_fold_0_of_1_epoch_499_aniso_3.2\""
   ],
   "metadata": {
    "collapsed": false
   }
  },
  {
   "cell_type": "code",
   "execution_count": 3,
   "outputs": [],
   "source": [
    "imgs, _, file_names = load_data(data_dir, dataset)\n",
    "pred_rbc = load_predictions(data_dir, dataset, file_names, exp_str_rbc)\n",
    "\n"
   ],
   "metadata": {
    "collapsed": false
   }
  },
  {
   "cell_type": "code",
   "execution_count": 85,
   "outputs": [
    {
     "data": {
      "text/plain": "array(['C2-FCR3_KM_B4_15_03processed_1-1',\n       'C2-FCR3_KM_B4_15_03processed_1-2',\n       'C2-FCR3_KM_B4_15_03processed_1-3',\n       'C2-FCR3_KM_B4_15_03processed_11-1',\n       'C2-FCR3_KM_B4_15_03processed_12-1',\n       'C2-FCR3_KM_B4_15_03processed_13-2',\n       'C2-FCR3_KM_B4_15_03processed_13-3',\n       'C2-FCR3_KM_B4_15_03processed_14-1',\n       'C2-FCR3_KM_B4_15_03processed_15-3',\n       'C2-FCR3_KM_B4_15_03processed_15-4',\n       'C2-FCR3_KM_B4_15_03processed_15-5',\n       'C2-FCR3_KM_B4_15_03processed_16-1',\n       'C2-FCR3_KM_B4_15_03processed_17-1',\n       'C2-FCR3_KM_B4_15_03processed_17-2',\n       'C2-FCR3_KM_B4_15_03processed_2-1',\n       'C2-FCR3_KM_B4_15_03processed_5-1',\n       'C2-FCR3_KM_B4_15_03processed_6-1',\n       'C2-FCR3_KM_B4_18_processed-1-1',\n       'C2-FCR3_KM_B4_18_processed-10-1',\n       'C2-FCR3_KM_B4_18_processed-10-2',\n       'C2-FCR3_KM_B4_18_processed-11-1',\n       'C2-FCR3_KM_B4_18_processed-16-2',\n       'C2-FCR3_KM_B4_18_processed-18-1',\n       'C2-FCR3_KM_B4_18_processed-4-1', 'C2-FCR3_KM_B4_18_processed-5-1',\n       'C2-FCR3_KM_B4_18_processed-6-1', 'C2-FCR3_KM_B4_18_processed-7-1',\n       'C2-FCR3_KM_B4_18_processed-9-1',\n       'C2-FCR3_KM_B4_21_-01processed-1-1',\n       'C2-FCR3_KM_B4_21_-01processed-1-2',\n       'C2-FCR3_KM_B4_21_-01processed-11-1',\n       'C2-FCR3_KM_B4_21_-01processed-11-2',\n       'C2-FCR3_KM_B4_21_-01processed-13-1',\n       'C2-FCR3_KM_B4_21_-01processed-15-1',\n       'C2-FCR3_KM_B4_21_-01processed-17-1',\n       'C2-FCR3_KM_B4_21_-01processed-17-2',\n       'C2-FCR3_KM_B4_21_-01processed-19-1',\n       'C2-FCR3_KM_B4_21_-01processed-21-1',\n       'C2-FCR3_KM_B4_21_-01processed-21-2',\n       'C2-FCR3_KM_B4_21_-01processed-7-1',\n       'C2-FCR3_KM_B4_21_-01processed-8-1',\n       'C2-FCR3_KM_B4_21_-01processed-8-2',\n       'C2-FCR3_KM_B4_21_-01processed-9-1'], dtype='<U34')"
     },
     "execution_count": 85,
     "metadata": {},
     "output_type": "execute_result"
    }
   ],
   "source": [
    "file_names"
   ],
   "metadata": {
    "collapsed": false
   }
  },
  {
   "cell_type": "code",
   "execution_count": 136,
   "outputs": [
    {
     "data": {
      "text/plain": "(array([37]),)"
     },
     "execution_count": 136,
     "metadata": {},
     "output_type": "execute_result"
    }
   ],
   "source": [
    "np.where(file_names == \"C2-FCR3_KM_B4_21_-01processed-21-1\")"
   ],
   "metadata": {
    "collapsed": false
   }
  },
  {
   "cell_type": "code",
   "execution_count": 138,
   "outputs": [
    {
     "data": {
      "text/plain": "'C2-FCR3_KM_B4_21_-01processed-21-1'"
     },
     "execution_count": 138,
     "metadata": {},
     "output_type": "execute_result"
    }
   ],
   "source": [
    "img_id = 37\n",
    "file_names[img_id]"
   ],
   "metadata": {
    "collapsed": false
   }
  },
  {
   "cell_type": "code",
   "execution_count": 139,
   "outputs": [],
   "source": [
    "seg = pred_rbc[img_id]"
   ],
   "metadata": {
    "collapsed": false
   }
  },
  {
   "cell_type": "code",
   "execution_count": 140,
   "outputs": [
    {
     "data": {
      "text/plain": "<matplotlib.image.AxesImage at 0x7f1b4c317b80>"
     },
     "execution_count": 140,
     "metadata": {},
     "output_type": "execute_result"
    },
    {
     "data": {
      "text/plain": "<Figure size 640x480 with 1 Axes>",
      "image/png": "[encoded data removed]"
     },
     "metadata": {},
     "output_type": "display_data"
    }
   ],
   "source": [
    "t = 20\n",
    "z = 12\n",
    "\n",
    "plt.imshow(seg[t][z], interpolation=\"none\")"
   ],
   "metadata": {
    "collapsed": false
   }
  },
  {
   "cell_type": "code",
   "execution_count": 141,
   "outputs": [
    {
     "name": "stdout",
     "output_type": "stream",
     "text": [
      "5\n"
     ]
    }
   ],
   "source": [
    "id_main = find_central_id(seg[t], 30)\n",
    "print(id_main)"
   ],
   "metadata": {
    "collapsed": false
   }
  },
  {
   "cell_type": "code",
   "execution_count": 142,
   "outputs": [
    {
     "data": {
      "text/plain": "<matplotlib.image.AxesImage at 0x7f1b4c275ca0>"
     },
     "execution_count": 142,
     "metadata": {},
     "output_type": "execute_result"
    },
    {
     "data": {
      "text/plain": "<Figure size 640x480 with 1 Axes>",
      "image/png": "[encoded data removed]"
     },
     "metadata": {},
     "output_type": "display_data"
    }
   ],
   "source": [
    "plt.imshow(seg[t][z] == id_main, interpolation=\"none\")"
   ],
   "metadata": {
    "collapsed": false
   }
  },
  {
   "cell_type": "code",
   "execution_count": 143,
   "outputs": [
    {
     "name": "stdout",
     "output_type": "stream",
     "text": [
      "{'nb_ids': array([1], dtype=uint16), 'contact': array([789])}\n",
      "Ratio: 0.8436272878535773\n",
      "Merged ratio: 0.8007643756146751\n",
      "Relative change: -0.05080787790536914\n",
      "\n"
     ]
    }
   ],
   "source": [
    "merged = handle_small_segments_simple(seg[t], nbhd_size=1)"
   ],
   "metadata": {
    "collapsed": false
   }
  },
  {
   "cell_type": "code",
   "execution_count": 144,
   "outputs": [
    {
     "data": {
      "text/plain": "<matplotlib.image.AxesImage at 0x7f1b4c1f0940>"
     },
     "execution_count": 144,
     "metadata": {},
     "output_type": "execute_result"
    },
    {
     "data": {
      "text/plain": "<Figure size 640x480 with 1 Axes>",
      "image/png": "[encoded data removed]"
     },
     "metadata": {},
     "output_type": "display_data"
    }
   ],
   "source": [
    "\n",
    "plt.imshow(merged[z], interpolation=\"none\")"
   ],
   "metadata": {
    "collapsed": false
   }
  },
  {
   "cell_type": "code",
   "execution_count": null,
   "outputs": [],
   "source": [],
   "metadata": {
    "collapsed": false
   }
  }
 ],
 "metadata": {
  "kernelspec": {
   "name": "conda-env-kahrp-py",
   "language": "python",
   "display_name": "Python [conda env:kahrp]"
  },
  "language_info": {
   "codemirror_mode": {
    "name": "ipython",
    "version": 2
   },
   "file_extension": ".py",
   "mimetype": "text/x-python",
   "name": "python",
   "nbconvert_exporter": "python",
   "pygments_lexer": "ipython2",
   "version": "2.7.6"
  }
 },
 "nbformat": 4,
 "nbformat_minor": 0
}
