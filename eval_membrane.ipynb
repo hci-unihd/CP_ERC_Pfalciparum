{
 "cells": [
  {
   "cell_type": "code",
   "source": [
    "# computes the metrics between GT shells and predicted shells\n",
    "%load_ext line_profiler\n",
    "%load_ext autoreload\n",
    "%autoreload 2\n",
    "import numpy as np\n",
    "import matplotlib.pyplot as plt\n",
    "import os\n",
    "from utils.utils import load_predictions, get_data, load_data, load_test_predictions, get_metrics, get_bbox_slices, get_bbox_margin, get_shells, compute_auc, get_path"
   ],
   "metadata": {
    "collapsed": false
   },
   "outputs": [],
   "execution_count": null
  },
  {
   "cell_type": "code",
   "execution_count": 36,
   "outputs": [],
   "source": [
    "root_path = get_path()\n",
    "fig_path = os.path.join(root_path, \"figures\")\n",
    "\n",
    "data_path = os.path.join(root_path, \"RBC_labelled\")\n",
    "\n",
    "datasets = [\"valid1\", \"valid2\", \"valid3\"]"
   ],
   "metadata": {
    "collapsed": false
   }
  },
  {
   "cell_type": "code",
   "execution_count": 3,
   "outputs": [],
   "source": [
    "# load gt data\n",
    "data_dict = {}\n",
    "for dataset in datasets:\n",
    "    imgs, gt, file_names = load_data(data_path, dataset)\n",
    "    data_dict[dataset] = {\"imgs\": imgs,\n",
    "                          \"gt\": gt,\n",
    "                          \"file_names\": file_names}"
   ],
   "metadata": {
    "collapsed": false
   }
  },
  {
   "cell_type": "code",
   "execution_count": 4,
   "outputs": [],
   "source": [
    "# load prediction data\n",
    "seed = 0\n",
    "n_folds = 10\n",
    "eval_str = \"data_valid1_valid2_valid3_by_stack_mode_3D_iso_min_train_masks_0_seed_0_epoch_499_aniso_3.2\"\n",
    "for dataset in datasets:\n",
    "    test_pred, test_idx = load_test_predictions(data_path,\n",
    "                                     dataset,\n",
    "                                     data_dict[dataset][\"file_names\"],\n",
    "                                     eval_str,\n",
    "                                     seed=seed,\n",
    "                                     n_folds=n_folds)\n",
    "    reverse_idx = np.argsort(test_idx)\n",
    "    test_pred = test_pred[reverse_idx]\n",
    "    data_dict[dataset][\"pred\"] = test_pred"
   ],
   "metadata": {
    "collapsed": false
   }
  },
  {
   "cell_type": "code",
   "execution_count": 5,
   "outputs": [],
   "source": [
    "# test shell functionality\n",
    "img_id = 3\n",
    "pred_shell = get_shells(data_dict[\"valid1\"][\"pred\"][img_id], dilation_radius=0, erosion_radius=2)\n",
    "gt_shell = get_shells(data_dict[\"valid1\"][\"gt\"][img_id],  dilation_radius=0, erosion_radius=2)"
   ],
   "metadata": {
    "collapsed": false
   }
  },
  {
   "cell_type": "code",
   "execution_count": 6,
   "outputs": [
    {
     "data": {
      "text/plain": "<matplotlib.image.AxesImage at 0x7f6a97fb16a0>"
     },
     "execution_count": 6,
     "metadata": {},
     "output_type": "execute_result"
    },
    {
     "data": {
      "text/plain": "<Figure size 640x480 with 4 Axes>",
      "image/png": "[encoded data removed]"
     },
     "metadata": {},
     "output_type": "display_data"
    }
   ],
   "source": [
    "z=15\n",
    "fig, ax = plt.subplots(1,4)\n",
    "ax[0].imshow(data_dict[\"valid1\"][\"gt\"][img_id][z], interpolation=\"none\")\n",
    "ax[1].imshow(gt_shell[z], interpolation=\"none\")\n",
    "ax[2].imshow(data_dict[\"valid1\"][\"pred\"][img_id][z], interpolation=\"none\")\n",
    "ax[3].imshow(pred_shell[z], interpolation=\"none\")"
   ],
   "metadata": {
    "collapsed": false
   }
  },
  {
   "cell_type": "code",
   "execution_count": 7,
   "outputs": [
    {
     "name": "stdout",
     "output_type": "stream",
     "text": [
      "CPU times: user 4.78 s, sys: 42.3 ms, total: 4.83 s\n",
      "Wall time: 4.83 s\n"
     ]
    }
   ],
   "source": [
    "%%time\n",
    "# compute all shells for metrics\n",
    "for dataset in data_dict:\n",
    "    gt_shell_imgs = np.stack([get_shells(gt_img, 1, 1) for gt_img in data_dict[dataset][\"gt\"]])\n",
    "    data_dict[dataset][\"gt_shells\"] = gt_shell_imgs\n",
    "\n",
    "    pred_shell_imgs = np.stack([get_shells(pred_img,1,1) for pred_img in data_dict[dataset][\"pred\"]])\n",
    "    data_dict[dataset][\"pred_shells\"] = pred_shell_imgs"
   ],
   "metadata": {
    "collapsed": false
   }
  },
  {
   "cell_type": "code",
   "execution_count": 29,
   "outputs": [],
   "source": [
    "# compute metrics between predicted shells and GT shells\n",
    "metrics = []\n",
    "\n",
    "for dataset in datasets:\n",
    "    for i, (gt_shell_img, pred_shell_img) in enumerate(zip(data_dict[dataset][\"gt_shells\"],\n",
    "                                                              data_dict[dataset][\"pred_shells\"])):\n",
    "        aps, tps, fps, fns, _ = get_metrics([gt_shell_img],\n",
    "                                            [pred_shell_img])\n",
    "        metrics.append(np.concatenate([aps, tps, fps, fns]))\n",
    "\n",
    "metrics = np.stack(metrics)\n",
    "\n"
   ],
   "metadata": {
    "collapsed": false
   }
  },
  {
   "cell_type": "code",
   "execution_count": 31,
   "outputs": [
    {
     "name": "stdout",
     "output_type": "stream",
     "text": [
      "(64, 4, 11)\n"
     ]
    }
   ],
   "source": [
    "print(metrics.shape)"
   ],
   "metadata": {
    "collapsed": false
   }
  },
  {
   "cell_type": "code",
   "execution_count": 32,
   "outputs": [],
   "source": [
    "mean_aps = metrics[:, 1] / (metrics[:, 1]+ metrics[:, 2] + metrics[:, 3])\n",
    "mean_aps = mean_aps.mean(0)"
   ],
   "metadata": {
    "collapsed": false
   }
  },
  {
   "cell_type": "code",
   "execution_count": 40,
   "outputs": [
    {
     "data": {
      "text/plain": "(11,)"
     },
     "execution_count": 40,
     "metadata": {},
     "output_type": "execute_result"
    }
   ],
   "source": [
    "mean_aps.shape"
   ],
   "metadata": {
    "collapsed": false
   }
  },
  {
   "cell_type": "code",
   "execution_count": 42,
   "outputs": [
    {
     "name": "stdout",
     "output_type": "stream",
     "text": [
      "0.62611365\n"
     ]
    },
    {
     "data": {
      "text/plain": "<Figure size 640x480 with 1 Axes>",
      "image/png": "[encoded data removed]"
     },
     "metadata": {},
     "output_type": "display_data"
    }
   ],
   "source": [
    "plt.plot(np.arange(11)/10, mean_aps)\n",
    "\n",
    "plt.savefig(os.path.join(fig_path,\n",
    "                         \"metric_shells_before_pp.pdf\"),\n",
    "            bbox_inches='tight',\n",
    "            pad_inches=0,\n",
    "            dpi=200)\n",
    "\n",
    "np.save(os.path.join(fig_path, \"metric_shells_before_pp_threshold.npy\"),\n",
    "        mean_aps)\n",
    "\n",
    "print(mean_aps.mean())"
   ],
   "metadata": {
    "collapsed": false
   }
  },
  {
   "cell_type": "code",
   "execution_count": null,
   "outputs": [],
   "source": [
    "# check if other shell widths and positions improve the metric (which they won't)"
   ],
   "metadata": {
    "collapsed": false
   }
  },
  {
   "cell_type": "code",
   "execution_count": 11,
   "outputs": [],
   "source": [
    "# compute dilation and erosion radii fo a given shell with and position\n",
    "def get_d_e_radii(width, excess_dilation):\n",
    "    d_radius = np.ceil(width / 2) + excess_dilation\n",
    "    e_radius = np.floor(width / 2) - excess_dilation\n",
    "\n",
    "    d_radius = int(d_radius)\n",
    "    e_radius = int(e_radius)\n",
    "\n",
    "    assert d_radius + e_radius == width\n",
    "\n",
    "    return d_radius, e_radius\n",
    "\n",
    "\n"
   ],
   "metadata": {
    "collapsed": false
   }
  },
  {
   "cell_type": "code",
   "execution_count": 12,
   "outputs": [
    {
     "data": {
      "text/plain": "(-1, 2)"
     },
     "execution_count": 12,
     "metadata": {},
     "output_type": "execute_result"
    }
   ],
   "source": [
    "get_d_e_radii(1, -2)"
   ],
   "metadata": {
    "collapsed": false
   }
  },
  {
   "cell_type": "code",
   "execution_count": 13,
   "outputs": [
    {
     "name": "stdout",
     "output_type": "stream",
     "text": [
      "CPU times: user 5min 5s, sys: 678 ms, total: 5min 6s\n",
      "Wall time: 5min 6s\n"
     ]
    }
   ],
   "source": [
    "%%time\n",
    "# varies position and width of the gt and pred shell jointly, will always favour wide shells\n",
    "shell_widths = [1, 2, 3, 4]\n",
    "excess_dilations = [-1, 0, 1]\n",
    "\n",
    "\n",
    "shell_aucs = np.zeros(shape=(len(shell_widths), len(excess_dilations)))\n",
    "\n",
    "\n",
    "for i, width in enumerate(shell_widths):\n",
    "    for j, excess_dilation in enumerate(excess_dilations):\n",
    "        d_radius, e_radius = get_d_e_radii(width, excess_dilation)\n",
    "        gt_d_radius, gt_e_radius = get_d_e_radii(width, 0)\n",
    "        for dataset in data_dict.keys():\n",
    "            shell_segs = []\n",
    "            for seg in data_dict[dataset][\"pred\"]:\n",
    "                shell_segs.append(get_shells(seg, erosion_radius=e_radius, dilation_radius=d_radius))\n",
    "            data_dict[dataset][\"pred_shell\"] = np.stack(shell_segs)\n",
    "\n",
    "            gt_shell_segs = []\n",
    "            for seg in data_dict[dataset][\"gt\"]:\n",
    "                gt_shell_segs.append(get_shells(seg, erosion_radius=gt_e_radius, dilation_radius=gt_d_radius))\n",
    "            data_dict[dataset][\"gt_shell\"] = np.stack(gt_shell_segs)\n",
    "\n",
    "        shell_aucs[i,j] = compute_auc(data_dict, stage=\"pred_shell\", gt_stage=\"gt_shell\")"
   ],
   "metadata": {
    "collapsed": false
   }
  },
  {
   "cell_type": "code",
   "execution_count": 14,
   "outputs": [
    {
     "data": {
      "text/plain": "<matplotlib.image.AxesImage at 0x7f6a9cb54130>"
     },
     "execution_count": 14,
     "metadata": {},
     "output_type": "execute_result"
    },
    {
     "data": {
      "text/plain": "<Figure size 640x480 with 1 Axes>",
      "image/png": "[encoded data removed]"
     },
     "metadata": {},
     "output_type": "display_data"
    }
   ],
   "source": [
    "plt.imshow(shell_aucs.T)"
   ],
   "metadata": {
    "collapsed": false
   }
  },
  {
   "cell_type": "markdown",
   "source": [
    "--> increasing the width of both the pred and gt shell always improves the results. Not shifting the shell inwards or outwards gives the best results"
   ],
   "metadata": {
    "collapsed": false
   }
  },
  {
   "cell_type": "code",
   "execution_count": 15,
   "outputs": [
    {
     "name": "stdout",
     "output_type": "stream",
     "text": [
      "CPU times: user 3min 54s, sys: 508 ms, total: 3min 54s\n",
      "Wall time: 3min 54s\n"
     ]
    }
   ],
   "source": [
    "%%time\n",
    "\n",
    "# fix GT shell narrowly at 2 pix\n",
    "shell_widths = [1, 2, 3, 4]\n",
    "excess_dilations = [-1, 0, 1]\n",
    "\n",
    "\n",
    "shell_aucs = np.zeros(shape=(len(shell_widths), len(excess_dilations)))\n",
    "\n",
    "\n",
    "for i, width in enumerate(shell_widths):\n",
    "    for j, excess_dilation in enumerate(excess_dilations):\n",
    "        d_radius, e_radius = get_d_e_radii(width, excess_dilation)\n",
    "        gt_d_radius, gt_e_radius = get_d_e_radii(2, 0)\n",
    "        for dataset in data_dict.keys():\n",
    "            shell_segs = []\n",
    "            for seg in data_dict[dataset][\"pred\"]:\n",
    "                shell_segs.append(get_shells(seg, erosion_radius=e_radius, dilation_radius=d_radius))\n",
    "            data_dict[dataset][\"pred_shell\"] = np.stack(shell_segs)\n",
    "\n",
    "            gt_shell_segs = []\n",
    "            for seg in data_dict[dataset][\"gt\"]:\n",
    "                gt_shell_segs.append(get_shells(seg, erosion_radius=gt_e_radius, dilation_radius=gt_d_radius))\n",
    "            data_dict[dataset][\"gt_shell\"] = np.stack(gt_shell_segs)\n",
    "\n",
    "        shell_aucs[i,j] = compute_auc(data_dict, stage=\"pred_shell\", gt_stage=\"gt_shell\")"
   ],
   "metadata": {
    "collapsed": false
   }
  },
  {
   "cell_type": "code",
   "execution_count": 16,
   "outputs": [
    {
     "data": {
      "text/plain": "([<matplotlib.axis.XTick at 0x7f6a9c95fb80>,\n  <matplotlib.axis.XTick at 0x7f6a9c95f460>,\n  <matplotlib.axis.XTick at 0x7f6a9c83b610>,\n  <matplotlib.axis.XTick at 0x7f6a9ca04fa0>],\n [Text(0, 0, '1'), Text(1, 0, '2'), Text(2, 0, '3'), Text(3, 0, '4')])"
     },
     "execution_count": 16,
     "metadata": {},
     "output_type": "execute_result"
    },
    {
     "data": {
      "text/plain": "<Figure size 640x480 with 1 Axes>",
      "image/png": "[encoded data removed]"
     },
     "metadata": {},
     "output_type": "display_data"
    }
   ],
   "source": [
    "plt.imshow(shell_aucs.T)\n",
    "plt.xlabel(\"width\")\n",
    "plt.xticks(shell_widths)\n",
    "\n",
    "plt.ylabel(\"excess dilation\")\n",
    "plt.yticks([0, 1, 2], excess_dilations)\n",
    "plt.xticks([0,1,2,3], shell_widths )"
   ],
   "metadata": {
    "collapsed": false
   }
  },
  {
   "cell_type": "markdown",
   "source": [
    "--> dilation_radius = 1 = erosion_radius seems best"
   ],
   "metadata": {
    "collapsed": false
   }
  },
  {
   "cell_type": "code",
   "execution_count": 17,
   "outputs": [
    {
     "name": "stdout",
     "output_type": "stream",
     "text": [
      "[[0.30038016 0.35892961 0.09819714]\n",
      " [0.29621506 0.62611367 0.29725047]\n",
      " [0.53310468 0.47255529 0.21815868]\n",
      " [0.45445698 0.43235116 0.34661683]]\n"
     ]
    }
   ],
   "source": [
    "print(shell_aucs)"
   ],
   "metadata": {
    "collapsed": false
   }
  }
 ],
 "metadata": {
  "kernelspec": {
   "name": "conda-env-kahrp-py",
   "language": "python",
   "display_name": "Python [conda env:kahrp]"
  },
  "language_info": {
   "codemirror_mode": {
    "name": "ipython",
    "version": 2
   },
   "file_extension": ".py",
   "mimetype": "text/x-python",
   "name": "python",
   "nbconvert_exporter": "python",
   "pygments_lexer": "ipython2",
   "version": "2.7.6"
  }
 },
 "nbformat": 4,
 "nbformat_minor": 0
}
