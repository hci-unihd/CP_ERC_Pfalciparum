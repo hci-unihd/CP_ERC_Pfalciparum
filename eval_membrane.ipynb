{
 "cells": [
  {
   "cell_type": "code",
   "source": [
    "# computes the metrics between GT shells and predicted shells\n",
    "%load_ext autoreload\n",
    "%autoreload 2\n",
    "import numpy as np\n",
    "import matplotlib.pyplot as plt\n",
    "import matplotlib\n",
    "import os\n",
    "from utils.utils import load_predictions, get_data, load_data, load_test_predictions, get_metrics, get_bbox_slices, get_bbox_margin, get_shells, compute_auc, get_path, train_test_auc"
   ],
   "metadata": {
    "collapsed": false,
    "ExecuteTime": {
     "end_time": "2024-12-05T13:54:45.621221Z",
     "start_time": "2024-12-05T13:54:45.584452Z"
    }
   },
   "outputs": [
    {
     "name": "stdout",
     "output_type": "stream",
     "text": [
      "The autoreload extension is already loaded. To reload it, use:\n",
      "  %reload_ext autoreload\n"
     ]
    }
   ],
   "execution_count": 25
  },
  {
   "cell_type": "code",
   "source": [
    "root_path = get_path()\n",
    "fig_path = os.path.join(root_path, \"figures\")\n",
    "\n",
    "data_path = os.path.join(root_path, \"RBC_labelled\")\n",
    "\n",
    "datasets = [\"valid1\", \"valid2\", \"valid3\"]"
   ],
   "metadata": {
    "collapsed": false,
    "ExecuteTime": {
     "end_time": "2024-12-05T13:39:17.506194Z",
     "start_time": "2024-12-05T13:39:17.467754Z"
    }
   },
   "outputs": [],
   "execution_count": 6
  },
  {
   "cell_type": "code",
   "source": [
    "# load gt data\n",
    "data_dict = {}\n",
    "for dataset in datasets:\n",
    "    imgs, gt, file_names = load_data(data_path, dataset)\n",
    "    data_dict[dataset] = {\"imgs\": imgs,\n",
    "                          \"gt\": gt,\n",
    "                          \"file_names\": file_names}"
   ],
   "metadata": {
    "collapsed": false,
    "ExecuteTime": {
     "end_time": "2024-12-05T13:39:23.270782Z",
     "start_time": "2024-12-05T13:39:18.088135Z"
    }
   },
   "outputs": [],
   "execution_count": 7
  },
  {
   "cell_type": "code",
   "source": [
    "# load prediction data\n",
    "seed = 0\n",
    "n_folds = 10\n",
    "eval_str = \"data_valid1_valid2_valid3_by_stack_mode_3D_iso_min_train_masks_0_seed_0_epoch_499_aniso_3.2\"\n",
    "for dataset in datasets:\n",
    "    test_pred, test_idx = load_test_predictions(data_path,\n",
    "                                     dataset,\n",
    "                                     data_dict[dataset][\"file_names\"],\n",
    "                                     eval_str,\n",
    "                                     seed=seed,\n",
    "                                     n_folds=n_folds)\n",
    "    reverse_idx = np.argsort(test_idx)\n",
    "    test_pred = test_pred[reverse_idx]\n",
    "    data_dict[dataset][\"pred\"] = test_pred"
   ],
   "metadata": {
    "collapsed": false,
    "ExecuteTime": {
     "end_time": "2024-12-05T13:39:28.105282Z",
     "start_time": "2024-12-05T13:39:25.223733Z"
    }
   },
   "outputs": [],
   "execution_count": 8
  },
  {
   "cell_type": "code",
   "source": [
    "# test shell functionality\n",
    "img_id = 3\n",
    "pred_shell = get_shells(data_dict[\"valid1\"][\"pred\"][img_id], dilation_radius=0, erosion_radius=2)\n",
    "gt_shell = get_shells(data_dict[\"valid1\"][\"gt\"][img_id],  dilation_radius=0, erosion_radius=2)"
   ],
   "metadata": {
    "collapsed": false,
    "ExecuteTime": {
     "end_time": "2024-12-05T13:39:30.029297Z",
     "start_time": "2024-12-05T13:39:29.745690Z"
    }
   },
   "outputs": [],
   "execution_count": 9
  },
  {
   "cell_type": "code",
   "source": [
    "z=15\n",
    "fig, ax = plt.subplots(1,4)\n",
    "ax[0].imshow(data_dict[\"valid1\"][\"gt\"][img_id][z], interpolation=\"none\")\n",
    "ax[1].imshow(gt_shell[z], interpolation=\"none\")\n",
    "ax[2].imshow(data_dict[\"valid1\"][\"pred\"][img_id][z], interpolation=\"none\")\n",
    "ax[3].imshow(pred_shell[z], interpolation=\"none\")"
   ],
   "metadata": {
    "collapsed": false,
    "ExecuteTime": {
     "end_time": "2024-12-05T13:39:31.832259Z",
     "start_time": "2024-12-05T13:39:31.426233Z"
    }
   },
   "outputs": [
    {
     "data": {
      "text/plain": [
       "<matplotlib.image.AxesImage at 0x7f822762eaf0>"
      ]
     },
     "execution_count": 10,
     "metadata": {},
     "output_type": "execute_result"
    },
    {
     "data": {
      "text/plain": [
       "<Figure size 640x480 with 4 Axes>"
      ],
      "image/png": "[encoded data removed]"
     },
     "metadata": {},
     "output_type": "display_data"
    }
   ],
   "execution_count": 10
  },
  {
   "metadata": {},
   "cell_type": "code",
   "outputs": [],
   "execution_count": null,
   "source": "# load membrane metrics"
  },
  {
   "metadata": {
    "ExecuteTime": {
     "end_time": "2024-12-05T13:54:48.735463Z",
     "start_time": "2024-12-05T13:54:48.699340Z"
    }
   },
   "cell_type": "code",
   "source": [
    "cmap = matplotlib.cm.get_cmap(\"tab10\")\n",
    "thresholds = np.arange(11)/ 10\n",
    "stitch_threshold = 0.1\n",
    "n_folds = 10\n",
    "anisotropy = 3.2"
   ],
   "outputs": [],
   "execution_count": 26
  },
  {
   "metadata": {
    "ExecuteTime": {
     "end_time": "2024-12-05T13:54:49.399422Z",
     "start_time": "2024-12-05T13:54:49.394873Z"
    }
   },
   "cell_type": "code",
   "source": "",
   "outputs": [],
   "execution_count": null
  },
  {
   "metadata": {
    "ExecuteTime": {
     "end_time": "2024-12-05T14:08:00.686584Z",
     "start_time": "2024-12-05T14:07:56.928869Z"
    }
   },
   "cell_type": "code",
   "source": [
    "dataset = [\"valid1\", \"valid2\", \"valid3\"]\n",
    "\n",
    "cv_model_names =[\"cellpose_data_valid1_valid2_valid3_by_stack_mode_3D_iso_min_train_masks_0_seed_0_epoch_499\"\n",
    "                 ]\n",
    "ax, aps_train, aps_test = train_test_auc(cv_model_names,\n",
    "                                         data_path,\n",
    "                                         dataset,\n",
    "                                         thresholds=thresholds,\n",
    "                                         n_folds=n_folds,\n",
    "                                         stitch_threshold=stitch_threshold,\n",
    "                                         anisotropy=anisotropy,\n",
    "                                         return_metrics=True,\n",
    "                                         shells=True)\n",
    "\n",
    "plt.savefig(os.path.join(fig_path,\n",
    "                         \"metric_RBC_membrane_before_pp.pdf\"),\n",
    "            bbox_inches='tight',\n",
    "            pad_inches=0,\n",
    "            dpi=200)\n",
    "\n",
    "np.save(os.path.join(fig_path, \"metric_RBC_membrane_before_pp_split_fold_threshold.npy\"),\n",
    "        np.array(np.concatenate([aps_train, aps_test])))"
   ],
   "outputs": [
    {
     "name": "stdout",
     "output_type": "stream",
     "text": [
      "Best method: cellpose_data_valid1_valid2_valid3_by_stack_mode_3D_iso_min_train_masks_0_seed_0_epoch_499\n",
      "Best AUC: 0.625214392029327\n"
     ]
    },
    {
     "data": {
      "text/plain": [
       "<Figure size 640x480 with 1 Axes>"
      ],
      "image/png": "[encoded data removed]"
     },
     "metadata": {},
     "output_type": "display_data"
    }
   ],
   "execution_count": 33
  },
  {
   "cell_type": "code",
   "execution_count": null,
   "outputs": [],
   "source": [
    "# check if other shell widths and positions improve the metric (which they won't)"
   ],
   "metadata": {
    "collapsed": false
   }
  },
  {
   "cell_type": "code",
   "source": [
    "# compute dilation and erosion radii fo a given shell with and position\n",
    "def get_d_e_radii(width, excess_dilation):\n",
    "    d_radius = np.ceil(width / 2) + excess_dilation\n",
    "    e_radius = np.floor(width / 2) - excess_dilation\n",
    "\n",
    "    d_radius = int(d_radius)\n",
    "    e_radius = int(e_radius)\n",
    "\n",
    "    assert d_radius + e_radius == width\n",
    "\n",
    "    return d_radius, e_radius\n",
    "\n",
    "\n"
   ],
   "metadata": {
    "collapsed": false,
    "ExecuteTime": {
     "end_time": "2024-12-05T14:09:32.544732Z",
     "start_time": "2024-12-05T14:09:32.502696Z"
    }
   },
   "outputs": [],
   "execution_count": 34
  },
  {
   "cell_type": "code",
   "source": [
    "get_d_e_radii(1, -2)"
   ],
   "metadata": {
    "collapsed": false,
    "ExecuteTime": {
     "end_time": "2024-12-05T14:09:33.282141Z",
     "start_time": "2024-12-05T14:09:33.244258Z"
    }
   },
   "outputs": [
    {
     "data": {
      "text/plain": [
       "(-1, 2)"
      ]
     },
     "execution_count": 35,
     "metadata": {},
     "output_type": "execute_result"
    }
   ],
   "execution_count": 35
  },
  {
   "cell_type": "code",
   "source": [
    "%%time\n",
    "# varies position and width of the gt and pred shell jointly, will always favour wide shells\n",
    "shell_widths = [1, 2, 3, 4]\n",
    "excess_dilations = [-1, 0, 1]\n",
    "\n",
    "\n",
    "shell_aucs = np.zeros(shape=(len(shell_widths), len(excess_dilations)))\n",
    "\n",
    "\n",
    "for i, width in enumerate(shell_widths):\n",
    "    for j, excess_dilation in enumerate(excess_dilations):\n",
    "        d_radius, e_radius = get_d_e_radii(width, excess_dilation)\n",
    "        gt_d_radius, gt_e_radius = get_d_e_radii(width, 0)\n",
    "        for dataset in data_dict.keys():\n",
    "            shell_segs = []\n",
    "            for seg in data_dict[dataset][\"pred\"]:\n",
    "                shell_segs.append(get_shells(seg, erosion_radius=e_radius, dilation_radius=d_radius))\n",
    "            data_dict[dataset][\"pred_shell\"] = np.stack(shell_segs)\n",
    "\n",
    "            gt_shell_segs = []\n",
    "            for seg in data_dict[dataset][\"gt\"]:\n",
    "                gt_shell_segs.append(get_shells(seg, erosion_radius=gt_e_radius, dilation_radius=gt_d_radius))\n",
    "            data_dict[dataset][\"gt_shell\"] = np.stack(gt_shell_segs)\n",
    "\n",
    "        shell_aucs[i,j] = compute_auc(data_dict, stage=\"pred_shell\", gt_stage=\"gt_shell\")"
   ],
   "metadata": {
    "collapsed": false,
    "ExecuteTime": {
     "end_time": "2024-12-05T14:15:01.084571Z",
     "start_time": "2024-12-05T14:09:33.817027Z"
    }
   },
   "outputs": [
    {
     "name": "stdout",
     "output_type": "stream",
     "text": [
      "CPU times: user 5min 25s, sys: 675 ms, total: 5min 26s\n",
      "Wall time: 5min 27s\n"
     ]
    }
   ],
   "execution_count": 36
  },
  {
   "cell_type": "code",
   "source": [
    "plt.imshow(shell_aucs.T)"
   ],
   "metadata": {
    "collapsed": false,
    "ExecuteTime": {
     "end_time": "2024-12-05T14:15:05.057772Z",
     "start_time": "2024-12-05T14:15:01.191586Z"
    }
   },
   "outputs": [
    {
     "data": {
      "text/plain": [
       "<matplotlib.image.AxesImage at 0x7f82266494c0>"
      ]
     },
     "execution_count": 37,
     "metadata": {},
     "output_type": "execute_result"
    },
    {
     "data": {
      "text/plain": [
       "<Figure size 640x480 with 1 Axes>"
      ],
      "image/png": "[encoded data removed]"
     },
     "metadata": {},
     "output_type": "display_data"
    }
   ],
   "execution_count": 37
  },
  {
   "cell_type": "markdown",
   "source": [
    "--> increasing the width of both the pred and gt shell always improves the results. Not shifting the shell inwards or outwards gives the best results"
   ],
   "metadata": {
    "collapsed": false
   }
  },
  {
   "cell_type": "code",
   "source": [
    "%%time\n",
    "\n",
    "# fix GT shell narrowly at 2 pix\n",
    "shell_widths = [1, 2, 3, 4]\n",
    "excess_dilations = [-1, 0, 1]\n",
    "\n",
    "\n",
    "shell_aucs = np.zeros(shape=(len(shell_widths), len(excess_dilations)))\n",
    "\n",
    "\n",
    "for i, width in enumerate(shell_widths):\n",
    "    for j, excess_dilation in enumerate(excess_dilations):\n",
    "        d_radius, e_radius = get_d_e_radii(width, excess_dilation)\n",
    "        gt_d_radius, gt_e_radius = get_d_e_radii(2, 0)\n",
    "        for dataset in data_dict.keys():\n",
    "            shell_segs = []\n",
    "            for seg in data_dict[dataset][\"pred\"]:\n",
    "                shell_segs.append(get_shells(seg, erosion_radius=e_radius, dilation_radius=d_radius))\n",
    "            data_dict[dataset][\"pred_shell\"] = np.stack(shell_segs)\n",
    "\n",
    "            gt_shell_segs = []\n",
    "            for seg in data_dict[dataset][\"gt\"]:\n",
    "                gt_shell_segs.append(get_shells(seg, erosion_radius=gt_e_radius, dilation_radius=gt_d_radius))\n",
    "            data_dict[dataset][\"gt_shell\"] = np.stack(gt_shell_segs)\n",
    "\n",
    "        shell_aucs[i,j] = compute_auc(data_dict, stage=\"pred_shell\", gt_stage=\"gt_shell\")"
   ],
   "metadata": {
    "collapsed": false,
    "ExecuteTime": {
     "end_time": "2024-12-05T14:19:06.584505Z",
     "start_time": "2024-12-05T14:15:05.111378Z"
    }
   },
   "outputs": [
    {
     "name": "stdout",
     "output_type": "stream",
     "text": [
      "CPU times: user 4min, sys: 476 ms, total: 4min 1s\n",
      "Wall time: 4min 1s\n"
     ]
    }
   ],
   "execution_count": 38
  },
  {
   "cell_type": "code",
   "source": [
    "plt.imshow(shell_aucs.T)\n",
    "plt.xlabel(\"width\")\n",
    "plt.xticks(shell_widths)\n",
    "\n",
    "plt.ylabel(\"excess dilation\")\n",
    "plt.yticks([0, 1, 2], excess_dilations)\n",
    "plt.xticks([0,1,2,3], shell_widths )"
   ],
   "metadata": {
    "collapsed": false,
    "ExecuteTime": {
     "end_time": "2024-12-05T14:19:06.764366Z",
     "start_time": "2024-12-05T14:19:06.676966Z"
    }
   },
   "outputs": [
    {
     "data": {
      "text/plain": [
       "([<matplotlib.axis.XTick at 0x7f82265954f0>,\n",
       "  <matplotlib.axis.XTick at 0x7f82265954c0>,\n",
       "  <matplotlib.axis.XTick at 0x7f82265f7a30>,\n",
       "  <matplotlib.axis.XTick at 0x7f82265b8070>],\n",
       " [Text(0, 0, '1'), Text(1, 0, '2'), Text(2, 0, '3'), Text(3, 0, '4')])"
      ]
     },
     "execution_count": 39,
     "metadata": {},
     "output_type": "execute_result"
    },
    {
     "data": {
      "text/plain": [
       "<Figure size 640x480 with 1 Axes>"
      ],
      "image/png": "[encoded data removed]"
     },
     "metadata": {},
     "output_type": "display_data"
    }
   ],
   "execution_count": 39
  },
  {
   "cell_type": "markdown",
   "source": [
    "--> dilation_radius = 1 = erosion_radius seems best"
   ],
   "metadata": {
    "collapsed": false
   }
  },
  {
   "cell_type": "code",
   "source": [
    "print(shell_aucs)"
   ],
   "metadata": {
    "collapsed": false,
    "ExecuteTime": {
     "end_time": "2024-12-05T14:19:06.839527Z",
     "start_time": "2024-12-05T14:19:06.802038Z"
    }
   },
   "outputs": [
    {
     "name": "stdout",
     "output_type": "stream",
     "text": [
      "[[0.30038016 0.35892961 0.09819714]\n",
      " [0.29621506 0.62611367 0.29725047]\n",
      " [0.53310468 0.47255529 0.21815868]\n",
      " [0.45445698 0.43235116 0.34661683]]\n"
     ]
    }
   ],
   "execution_count": 40
  },
  {
   "metadata": {},
   "cell_type": "code",
   "outputs": [],
   "execution_count": null,
   "source": ""
  }
 ],
 "metadata": {
  "kernelspec": {
   "name": "conda-env-kahrp-py",
   "language": "python",
   "display_name": "Python [conda env:kahrp]"
  },
  "language_info": {
   "codemirror_mode": {
    "name": "ipython",
    "version": 2
   },
   "file_extension": ".py",
   "mimetype": "text/x-python",
   "name": "python",
   "nbconvert_exporter": "python",
   "pygments_lexer": "ipython2",
   "version": "2.7.6"
  }
 },
 "nbformat": 4,
 "nbformat_minor": 0
}
